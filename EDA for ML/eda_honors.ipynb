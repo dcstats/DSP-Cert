{
 "cells": [
  {
   "cell_type": "code",
   "execution_count": 34,
   "metadata": {},
   "outputs": [],
   "source": [
    "import pandas as pd\n",
    "import matplotlib.pyplot as plt\n",
    "import seaborn as sns\n",
    "from scipy import stats\n",
    "from statsmodels.stats.weightstats import ztest\n",
    "\n",
    "pd.set_option('display.max_columns', None)\n",
    "plt.rcParams['figure.figsize'] = (12, 8)"
   ]
  },
  {
   "cell_type": "code",
   "execution_count": 5,
   "metadata": {},
   "outputs": [
    {
     "data": {
      "text/html": [
       "<div>\n",
       "<style scoped>\n",
       "    .dataframe tbody tr th:only-of-type {\n",
       "        vertical-align: middle;\n",
       "    }\n",
       "\n",
       "    .dataframe tbody tr th {\n",
       "        vertical-align: top;\n",
       "    }\n",
       "\n",
       "    .dataframe thead th {\n",
       "        text-align: right;\n",
       "    }\n",
       "</style>\n",
       "<table border=\"1\" class=\"dataframe\">\n",
       "  <thead>\n",
       "    <tr style=\"text-align: right;\">\n",
       "      <th></th>\n",
       "      <th>game_id</th>\n",
       "      <th>home_team</th>\n",
       "      <th>home_id</th>\n",
       "      <th>home_rank</th>\n",
       "      <th>home_record</th>\n",
       "      <th>home_score</th>\n",
       "      <th>away_team</th>\n",
       "      <th>away_id</th>\n",
       "      <th>away_rank</th>\n",
       "      <th>away_record</th>\n",
       "      <th>away_score</th>\n",
       "      <th>home_win</th>\n",
       "      <th>num_ots</th>\n",
       "      <th>is_conference</th>\n",
       "      <th>is_neutral</th>\n",
       "      <th>is_postseason</th>\n",
       "      <th>tournament</th>\n",
       "      <th>game_day</th>\n",
       "      <th>game_time</th>\n",
       "      <th>game_loc</th>\n",
       "      <th>arena</th>\n",
       "      <th>arena_capacity</th>\n",
       "      <th>attendance</th>\n",
       "      <th>tv_network</th>\n",
       "      <th>referee_1</th>\n",
       "      <th>referee_2</th>\n",
       "      <th>referee_3</th>\n",
       "    </tr>\n",
       "  </thead>\n",
       "  <tbody>\n",
       "    <tr>\n",
       "      <th>0</th>\n",
       "      <td>401082470</td>\n",
       "      <td>Kansas Jayhawks</td>\n",
       "      <td>2305</td>\n",
       "      <td>1.0</td>\n",
       "      <td>1-0</td>\n",
       "      <td>92</td>\n",
       "      <td>Michigan State Spartans</td>\n",
       "      <td>127</td>\n",
       "      <td>10.0</td>\n",
       "      <td>0-1</td>\n",
       "      <td>87</td>\n",
       "      <td>True</td>\n",
       "      <td>0</td>\n",
       "      <td>False</td>\n",
       "      <td>True</td>\n",
       "      <td>False</td>\n",
       "      <td>STATE FARM CHAMPIONS CLASSIC</td>\n",
       "      <td>November 06, 2018</td>\n",
       "      <td>04:00 PM PST</td>\n",
       "      <td>Indianapolis, IN</td>\n",
       "      <td>Gainbridge Fieldhouse</td>\n",
       "      <td>17923</td>\n",
       "      <td>18907</td>\n",
       "      <td>ESPN</td>\n",
       "      <td>Terry Wymer</td>\n",
       "      <td>Keith Kimble</td>\n",
       "      <td>Mike Eades</td>\n",
       "    </tr>\n",
       "    <tr>\n",
       "      <th>1</th>\n",
       "      <td>401082669</td>\n",
       "      <td>Kentucky Wildcats</td>\n",
       "      <td>96</td>\n",
       "      <td>2.0</td>\n",
       "      <td>0-1</td>\n",
       "      <td>84</td>\n",
       "      <td>Duke Blue Devils</td>\n",
       "      <td>150</td>\n",
       "      <td>4.0</td>\n",
       "      <td>1-0</td>\n",
       "      <td>118</td>\n",
       "      <td>False</td>\n",
       "      <td>0</td>\n",
       "      <td>False</td>\n",
       "      <td>True</td>\n",
       "      <td>False</td>\n",
       "      <td>STATE FARM CHAMPIONS CLASSIC</td>\n",
       "      <td>November 06, 2018</td>\n",
       "      <td>07:03 PM PST</td>\n",
       "      <td>Indianapolis, IN</td>\n",
       "      <td>Gainbridge Fieldhouse</td>\n",
       "      <td>17923</td>\n",
       "      <td>18907</td>\n",
       "      <td>ESPN</td>\n",
       "      <td>Jeff Clark</td>\n",
       "      <td>Doug Shows</td>\n",
       "      <td>Ron Groover</td>\n",
       "    </tr>\n",
       "    <tr>\n",
       "      <th>2</th>\n",
       "      <td>401083627</td>\n",
       "      <td>Gonzaga Bulldogs</td>\n",
       "      <td>2250</td>\n",
       "      <td>3.0</td>\n",
       "      <td>1-0</td>\n",
       "      <td>120</td>\n",
       "      <td>Idaho State Bengals</td>\n",
       "      <td>304</td>\n",
       "      <td>NaN</td>\n",
       "      <td>0-1</td>\n",
       "      <td>79</td>\n",
       "      <td>True</td>\n",
       "      <td>0</td>\n",
       "      <td>False</td>\n",
       "      <td>False</td>\n",
       "      <td>False</td>\n",
       "      <td>NaN</td>\n",
       "      <td>November 06, 2018</td>\n",
       "      <td>06:00 PM PST</td>\n",
       "      <td>Spokane, WA</td>\n",
       "      <td>McCarthey Athletic Center</td>\n",
       "      <td>6000</td>\n",
       "      <td>6000</td>\n",
       "      <td>NaN</td>\n",
       "      <td>Rick Batsell</td>\n",
       "      <td>Sam Haddad</td>\n",
       "      <td>Sir Allen  Conner</td>\n",
       "    </tr>\n",
       "    <tr>\n",
       "      <th>3</th>\n",
       "      <td>401082762</td>\n",
       "      <td>Virginia Cavaliers</td>\n",
       "      <td>258</td>\n",
       "      <td>5.0</td>\n",
       "      <td>1-0</td>\n",
       "      <td>73</td>\n",
       "      <td>Towson Tigers</td>\n",
       "      <td>119</td>\n",
       "      <td>NaN</td>\n",
       "      <td>0-1</td>\n",
       "      <td>42</td>\n",
       "      <td>True</td>\n",
       "      <td>0</td>\n",
       "      <td>False</td>\n",
       "      <td>False</td>\n",
       "      <td>False</td>\n",
       "      <td>NaN</td>\n",
       "      <td>November 06, 2018</td>\n",
       "      <td>04:00 PM PST</td>\n",
       "      <td>Charlottesville, VA</td>\n",
       "      <td>John Paul Jones Arena</td>\n",
       "      <td>14623</td>\n",
       "      <td>13807</td>\n",
       "      <td>ACCNX</td>\n",
       "      <td>Jeremy Mosier</td>\n",
       "      <td>Raymie Styons</td>\n",
       "      <td>Ted Valentine</td>\n",
       "    </tr>\n",
       "    <tr>\n",
       "      <th>4</th>\n",
       "      <td>401082974</td>\n",
       "      <td>Tennessee Volunteers</td>\n",
       "      <td>2633</td>\n",
       "      <td>6.0</td>\n",
       "      <td>1-0</td>\n",
       "      <td>86</td>\n",
       "      <td>Lenoir-Rhyne Bears</td>\n",
       "      <td>nd-lenoir-rhyne-bears</td>\n",
       "      <td>NaN</td>\n",
       "      <td>NaN</td>\n",
       "      <td>41</td>\n",
       "      <td>True</td>\n",
       "      <td>0</td>\n",
       "      <td>False</td>\n",
       "      <td>False</td>\n",
       "      <td>False</td>\n",
       "      <td>NaN</td>\n",
       "      <td>November 06, 2018</td>\n",
       "      <td>04:00 PM PST</td>\n",
       "      <td>Knoxville, TN</td>\n",
       "      <td>Thompson-Boling Arena</td>\n",
       "      <td>21678</td>\n",
       "      <td>16156</td>\n",
       "      <td>SECN</td>\n",
       "      <td>Brian Shey</td>\n",
       "      <td>Byron Jarrett</td>\n",
       "      <td>Steve Orkus</td>\n",
       "    </tr>\n",
       "  </tbody>\n",
       "</table>\n",
       "</div>"
      ],
      "text/plain": [
       "     game_id             home_team home_id  home_rank home_record  home_score  \\\n",
       "0  401082470       Kansas Jayhawks    2305        1.0         1-0          92   \n",
       "1  401082669     Kentucky Wildcats      96        2.0         0-1          84   \n",
       "2  401083627      Gonzaga Bulldogs    2250        3.0         1-0         120   \n",
       "3  401082762    Virginia Cavaliers     258        5.0         1-0          73   \n",
       "4  401082974  Tennessee Volunteers    2633        6.0         1-0          86   \n",
       "\n",
       "                 away_team                away_id  away_rank away_record  \\\n",
       "0  Michigan State Spartans                    127       10.0         0-1   \n",
       "1         Duke Blue Devils                    150        4.0         1-0   \n",
       "2      Idaho State Bengals                    304        NaN         0-1   \n",
       "3            Towson Tigers                    119        NaN         0-1   \n",
       "4       Lenoir-Rhyne Bears  nd-lenoir-rhyne-bears        NaN         NaN   \n",
       "\n",
       "   away_score  home_win  num_ots  is_conference  is_neutral  is_postseason  \\\n",
       "0          87      True        0          False        True          False   \n",
       "1         118     False        0          False        True          False   \n",
       "2          79      True        0          False       False          False   \n",
       "3          42      True        0          False       False          False   \n",
       "4          41      True        0          False       False          False   \n",
       "\n",
       "                     tournament           game_day     game_time  \\\n",
       "0  STATE FARM CHAMPIONS CLASSIC  November 06, 2018  04:00 PM PST   \n",
       "1  STATE FARM CHAMPIONS CLASSIC  November 06, 2018  07:03 PM PST   \n",
       "2                           NaN  November 06, 2018  06:00 PM PST   \n",
       "3                           NaN  November 06, 2018  04:00 PM PST   \n",
       "4                           NaN  November 06, 2018  04:00 PM PST   \n",
       "\n",
       "              game_loc                      arena  arena_capacity  attendance  \\\n",
       "0     Indianapolis, IN      Gainbridge Fieldhouse           17923       18907   \n",
       "1     Indianapolis, IN      Gainbridge Fieldhouse           17923       18907   \n",
       "2          Spokane, WA  McCarthey Athletic Center            6000        6000   \n",
       "3  Charlottesville, VA      John Paul Jones Arena           14623       13807   \n",
       "4        Knoxville, TN      Thompson-Boling Arena           21678       16156   \n",
       "\n",
       "  tv_network      referee_1      referee_2          referee_3  \n",
       "0       ESPN    Terry Wymer   Keith Kimble         Mike Eades  \n",
       "1       ESPN     Jeff Clark     Doug Shows        Ron Groover  \n",
       "2        NaN   Rick Batsell     Sam Haddad  Sir Allen  Conner  \n",
       "3      ACCNX  Jeremy Mosier  Raymie Styons      Ted Valentine  \n",
       "4       SECN     Brian Shey  Byron Jarrett        Steve Orkus  "
      ]
     },
     "execution_count": 5,
     "metadata": {},
     "output_type": "execute_result"
    }
   ],
   "source": [
    "df = pd.read_csv('game_info_18-19.csv')\n",
    "df.head()"
   ]
  },
  {
   "cell_type": "code",
   "execution_count": 3,
   "metadata": {},
   "outputs": [
    {
     "name": "stdout",
     "output_type": "stream",
     "text": [
      "<class 'pandas.core.frame.DataFrame'>\n",
      "RangeIndex: 6049 entries, 0 to 6048\n",
      "Data columns (total 27 columns):\n",
      " #   Column          Non-Null Count  Dtype  \n",
      "---  ------          --------------  -----  \n",
      " 0   game_id         6049 non-null   int64  \n",
      " 1   home_team       6049 non-null   object \n",
      " 2   home_id         6049 non-null   object \n",
      " 3   home_rank       596 non-null    float64\n",
      " 4   home_record     6047 non-null   object \n",
      " 5   home_score      6049 non-null   int64  \n",
      " 6   away_team       6049 non-null   object \n",
      " 7   away_id         6049 non-null   object \n",
      " 8   away_rank       432 non-null    float64\n",
      " 9   away_record     5605 non-null   object \n",
      " 10  away_score      6049 non-null   int64  \n",
      " 11  home_win        6049 non-null   bool   \n",
      " 12  num_ots         6049 non-null   int64  \n",
      " 13  is_conference   6049 non-null   bool   \n",
      " 14  is_neutral      6049 non-null   bool   \n",
      " 15  is_postseason   6049 non-null   bool   \n",
      " 16  tournament      1088 non-null   object \n",
      " 17  game_day        6049 non-null   object \n",
      " 18  game_time       6049 non-null   object \n",
      " 19  game_loc        6049 non-null   object \n",
      " 20  arena           6049 non-null   object \n",
      " 21  arena_capacity  6049 non-null   int64  \n",
      " 22  attendance      6049 non-null   int64  \n",
      " 23  tv_network      3948 non-null   object \n",
      " 24  referee_1       5825 non-null   object \n",
      " 25  referee_2       5825 non-null   object \n",
      " 26  referee_3       5820 non-null   object \n",
      "dtypes: bool(4), float64(2), int64(6), object(15)\n",
      "memory usage: 1.1+ MB\n"
     ]
    }
   ],
   "source": [
    "df.info()"
   ]
  },
  {
   "cell_type": "code",
   "execution_count": 18,
   "metadata": {},
   "outputs": [
    {
     "data": {
      "text/plain": [
       "6049"
      ]
     },
     "execution_count": 18,
     "metadata": {},
     "output_type": "execute_result"
    }
   ],
   "source": [
    "len(df)"
   ]
  },
  {
   "cell_type": "markdown",
   "metadata": {},
   "source": [
    "# Cleaning"
   ]
  },
  {
   "cell_type": "code",
   "execution_count": 19,
   "metadata": {},
   "outputs": [
    {
     "data": {
      "text/plain": [
       "(374, 385)"
      ]
     },
     "execution_count": 19,
     "metadata": {},
     "output_type": "execute_result"
    }
   ],
   "source": [
    "df.home_team.str.contains('nd').sum(), df.away_team.str.contains('nd').sum()"
   ]
  },
  {
   "cell_type": "code",
   "execution_count": 20,
   "metadata": {},
   "outputs": [
    {
     "data": {
      "text/plain": [
       "5314"
      ]
     },
     "execution_count": 20,
     "metadata": {},
     "output_type": "execute_result"
    }
   ],
   "source": [
    "df = df.loc[(~df.home_team.str.contains('nd')) & (~df.away_team.str.contains('nd'))].reset_index(drop=True)\n",
    "len(df)"
   ]
  },
  {
   "cell_type": "code",
   "execution_count": 39,
   "metadata": {},
   "outputs": [
    {
     "data": {
      "text/plain": [
       "5190"
      ]
     },
     "execution_count": 39,
     "metadata": {},
     "output_type": "execute_result"
    }
   ],
   "source": [
    "df = df.loc[~df.is_postseason]\n",
    "len(df)"
   ]
  },
  {
   "cell_type": "markdown",
   "metadata": {},
   "source": [
    "# EDA"
   ]
  },
  {
   "cell_type": "code",
   "execution_count": 40,
   "metadata": {},
   "outputs": [
    {
     "data": {
      "text/plain": [
       "<AxesSubplot:xlabel='home_score', ylabel='Count'>"
      ]
     },
     "execution_count": 40,
     "metadata": {},
     "output_type": "execute_result"
    },
    {
     "data": {
      "image/png": "[encoded data removed]",
      "text/plain": [
       "<Figure size 864x576 with 1 Axes>"
      ]
     },
     "metadata": {
      "needs_background": "light"
     },
     "output_type": "display_data"
    }
   ],
   "source": [
    "sns.histplot(data=df, x='home_score')"
   ]
  },
  {
   "cell_type": "code",
   "execution_count": 41,
   "metadata": {},
   "outputs": [
    {
     "data": {
      "text/plain": [
       "<AxesSubplot:xlabel='away_score', ylabel='Count'>"
      ]
     },
     "execution_count": 41,
     "metadata": {},
     "output_type": "execute_result"
    },
    {
     "data": {
      "image/png": "[encoded data removed]",
      "text/plain": [
       "<Figure size 864x576 with 1 Axes>"
      ]
     },
     "metadata": {
      "needs_background": "light"
     },
     "output_type": "display_data"
    }
   ],
   "source": [
    "sns.histplot(data=df, x='away_score')"
   ]
  },
  {
   "cell_type": "code",
   "execution_count": 42,
   "metadata": {},
   "outputs": [
    {
     "data": {
      "text/plain": [
       "(75.94643545279384, 68.54123314065511)"
      ]
     },
     "execution_count": 42,
     "metadata": {},
     "output_type": "execute_result"
    }
   ],
   "source": [
    "df.home_score.mean(), df.away_score.mean()"
   ]
  },
  {
   "cell_type": "code",
   "execution_count": 43,
   "metadata": {},
   "outputs": [
    {
     "data": {
      "text/plain": [
       "<AxesSubplot:xlabel='home_score', ylabel='home_rank'>"
      ]
     },
     "execution_count": 43,
     "metadata": {},
     "output_type": "execute_result"
    },
    {
     "data": {
      "image/png": "[encoded data removed]",
      "text/plain": [
       "<Figure size 864x576 with 1 Axes>"
      ]
     },
     "metadata": {
      "needs_background": "light"
     },
     "output_type": "display_data"
    }
   ],
   "source": [
    "sns.boxplot(data=df, x='home_score', y='home_rank', orient='h')"
   ]
  },
  {
   "cell_type": "markdown",
   "metadata": {},
   "source": [
    "# Hypotheses"
   ]
  },
  {
   "cell_type": "markdown",
   "metadata": {},
   "source": [
    "### 21-25 scores not diff from 1-5 scores"
   ]
  },
  {
   "cell_type": "code",
   "execution_count": 45,
   "metadata": {},
   "outputs": [
    {
     "data": {
      "text/plain": [
       "(101, 82)"
      ]
     },
     "execution_count": 45,
     "metadata": {},
     "output_type": "execute_result"
    }
   ],
   "source": [
    "df_t5 = df.loc[df.home_rank.isin([1,2,3,4,5])]\n",
    "df_b5 = df.loc[df.home_rank.isin([21,22,23,24,25])]\n",
    "len(df_t5), len(df_b5)"
   ]
  },
  {
   "cell_type": "code",
   "execution_count": 46,
   "metadata": {},
   "outputs": [
    {
     "data": {
      "text/plain": [
       "(1.0979769680368396, 0.27221454660716704)"
      ]
     },
     "execution_count": 46,
     "metadata": {},
     "output_type": "execute_result"
    }
   ],
   "source": [
    "ztest(df_t5.home_score, df_b5.home_score)"
   ]
  },
  {
   "cell_type": "code",
   "execution_count": null,
   "metadata": {},
   "outputs": [],
   "source": []
  }
 ],
 "metadata": {
  "kernelspec": {
   "display_name": "base",
   "language": "python",
   "name": "python3"
  },
  "language_info": {
   "codemirror_mode": {
    "name": "ipython",
    "version": 3
   },
   "file_extension": ".py",
   "mimetype": "text/x-python",
   "name": "python",
   "nbconvert_exporter": "python",
   "pygments_lexer": "ipython3",
   "version": "3.9.10"
  }
 },
 "nbformat": 4,
 "nbformat_minor": 2
}
